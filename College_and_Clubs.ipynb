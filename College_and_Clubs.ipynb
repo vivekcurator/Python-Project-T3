{
 "cells": [
  {
   "cell_type": "markdown",
   "metadata": {},
   "source": [
    "### PROJECT 11   By  Vivek saini and Pulkit Chopra"
   ]
  },
  {
   "cell_type": "markdown",
   "metadata": {},
   "source": [
    "### TITLE: College and Clubs"
   ]
  },
  {
   "cell_type": "markdown",
   "metadata": {},
   "source": [
    "### GOAL: There are two clubs operating in your college. The first one is a Dance club named as 'Extravenza' and the other one is a Sports club named as 'Tez'. Some of the students are enrolled in Extravenza, some of them are enrolled in Tez. But there is a small group of students who are enrolled in both of these clubs. You as a representative of the student council is given a task to tell the total count of students who are enrolled in at least one of the clubs."
   ]
  },
  {
   "cell_type": "code",
   "execution_count": 2,
   "metadata": {},
   "outputs": [
    {
     "name": "stdout",
     "output_type": "stream",
     "text": [
      "Students in Club Extravenza: 1,2,3,5\n",
      "Students in Club Tez: 2,3,4\n",
      "Students in both the Clubs:  ['2', '3']\n",
      "No. of Students who are enrolled in atleast one of the clubs: 5\n"
     ]
    }
   ],
   "source": [
    "L=[]  #List 1\n",
    "M=[]  #list 2\n",
    "L1=input(\"Students in Club Extravenza: \").split(\",\")     #Get list of student in dance club\n",
    "L2=L1+input(\"Students in Club Tez: \").split(\",\")           #Get list of student in sports club\n",
    "for i in L2:\n",
    "    if i not in L:                               #if element in list appeares atleast once it is added  to list 'L'\n",
    "        L.append(i)\n",
    "    else:\n",
    "        M.append(i)                             #if element in list repeates the element is added to list'M'\n",
    "print(\"Students in both the Clubs: \",M)\n",
    "print(\"No. of Students who are enrolled in atleast one of the clubs:\",len(L))      #printed no of elements in L"
   ]
  }
 ],
 "metadata": {
  "kernelspec": {
   "display_name": "Python 3",
   "language": "python",
   "name": "python3"
  },
  "language_info": {
   "codemirror_mode": {
    "name": "ipython",
    "version": 3
   },
   "file_extension": ".py",
   "mimetype": "text/x-python",
   "name": "python",
   "nbconvert_exporter": "python",
   "pygments_lexer": "ipython3",
   "version": "3.7.3"
  }
 },
 "nbformat": 4,
 "nbformat_minor": 2
}
